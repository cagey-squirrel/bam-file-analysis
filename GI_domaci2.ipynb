{
  "nbformat": 4,
  "nbformat_minor": 0,
  "metadata": {
    "colab": {
      "provenance": []
    },
    "kernelspec": {
      "name": "python3",
      "display_name": "Python 3"
    },
    "language_info": {
      "name": "python"
    }
  },
  "cells": [
    {
      "cell_type": "code",
      "execution_count": 1,
      "metadata": {
        "colab": {
          "base_uri": "https://localhost:8080/"
        },
        "id": "N7wskF3-KSco",
        "outputId": "2422a2d5-0f30-4be8-ca5b-2fc267a397cf"
      },
      "outputs": [
        {
          "output_type": "stream",
          "name": "stdout",
          "text": [
            "Looking in indexes: https://pypi.org/simple, https://us-python.pkg.dev/colab-wheels/public/simple/\n",
            "Collecting pysam\n",
            "  Downloading pysam-0.20.0-cp39-cp39-manylinux_2_24_x86_64.whl (15.6 MB)\n",
            "\u001b[2K     \u001b[90m━━━━━━━━━━━━━━━━━━━━━━━━━━━━━━━━━━━━━━━━\u001b[0m \u001b[32m15.6/15.6 MB\u001b[0m \u001b[31m63.1 MB/s\u001b[0m eta \u001b[36m0:00:00\u001b[0m\n",
            "\u001b[?25hInstalling collected packages: pysam\n",
            "Successfully installed pysam-0.20.0\n"
          ]
        }
      ],
      "source": [
        "! pip install pysam"
      ]
    },
    {
      "cell_type": "code",
      "source": [
        "import pysam"
      ],
      "metadata": {
        "id": "ZE1hSZM-LZVi"
      },
      "execution_count": 2,
      "outputs": []
    },
    {
      "cell_type": "code",
      "source": [
        "samfile = pysam.AlignmentFile(\"merged-tumor.bam\", \"rb\")\n",
        "\n",
        "total_reads = 0\n",
        "total_unmapped = 0\n",
        "total_mapping_quality = 0\n",
        "total_read_quality_0 = 0\n",
        "\n",
        "for read in samfile.fetch(until_eof=True):\n",
        "  \n",
        "  total_reads += 1\n",
        "\n",
        "  if read.is_unmapped:\n",
        "    total_unmapped += 1\n",
        "  \n",
        "  if total_reads == 1:\n",
        "    first_read = read\n",
        "  \n",
        "  read_quality = read.mapping_quality\n",
        "  total_mapping_quality += read_quality\n",
        "  total_read_quality_0 += read_quality == 0\n",
        "\n",
        "if samfile.has_index():\n",
        "  print(f'Number of unmapped reads in file = {samfile.unmapped}')\n",
        "else:\n",
        "  print(f'Number of unmapped reads in file = {total_unmapped}')\n",
        "\n",
        "print(f'Total number of reads = {total_reads}')\n",
        "print(f'Number of reads with mapping quality 0 = {total_read_quality_0}')\n",
        "print(f'Average mapping quality for the reads = {total_mapping_quality / total_reads}')\n",
        "print(f'Average mapping quality if reads with 0 mapp quality are filtered out = {total_mapping_quality / (total_reads - total_read_quality_0)}')\n",
        "\n",
        "\n",
        "print('\\n\\nInspecting some first read fields:')\n",
        "print(f'First read cigar string: {first_read.cigarstring}')\n",
        "print(f'First read flag: {bin(first_read.flag)}')\n",
        "print(f'First read is duplicate: {first_read.is_duplicate}')\n",
        "print(f'First read is paired: {first_read.is_paired}')\n",
        "print(f'First read is unmapped: {first_read.is_unmapped}')\n",
        "print(f'First read is first of paired reads: {first_read.is_read1}')\n",
        "print(f'First read is second of paired reads: {first_read.is_read2}')\n",
        "\n",
        "flag = first_read.flag\n",
        "print('\\nInspecting some flags for first read:')\n",
        "print(f'First read is duplicate based on flag: {bool(flag & 0x400)}')\n",
        "print(f'First read is paired based on flag: {bool(flag & 0x1)}')\n",
        "print(f'First read is unmapped based on flag: {bool(flag & 0x4)}')\n",
        "print(f'First read is first of paired reads based on flag: {bool(flag & 0x40)}')\n",
        "print(f'First read is second of paired reads based on flag: {bool(flag & 0x80)}')\n",
        "\n",
        "\n",
        "\n",
        "\n",
        "\n"
      ],
      "metadata": {
        "colab": {
          "base_uri": "https://localhost:8080/"
        },
        "id": "BPLBekHoLbsB",
        "outputId": "c119b9ee-c9f0-4942-919f-fb73146b7225"
      },
      "execution_count": 19,
      "outputs": [
        {
          "output_type": "stream",
          "name": "stdout",
          "text": [
            "Number of unmapped reads in file = 17765\n",
            "Total number of reads = 2921629\n",
            "Number of reads with mapping quality 0 = 126628\n",
            "Average mapping quality for the reads = 55.91379158681681\n",
            "Average mapping quality if reads with 0 mapp quality are filtered out = 58.446975510921106\n",
            "\n",
            "\n",
            "Inspecting some first read fields:\n",
            "First read cigar string: 76M\n",
            "First read flag: 0b10010100011\n",
            "First read is duplicate: True\n",
            "First read is paired: True\n",
            "First read is unmapped: False\n",
            "First read is first of paired reads: False\n",
            "First read is second of paired reads: True\n",
            "\n",
            "Inspecting some flags for first read:\n",
            "First read is duplicate based on flag: True\n",
            "First read is paired based on flag: True\n",
            "First read is unmapped based on flag: False\n",
            "First read is first of paired reads based on flag: False\n",
            "First read is second of paired reads based on flag: True\n"
          ]
        }
      ]
    }
  ]
}